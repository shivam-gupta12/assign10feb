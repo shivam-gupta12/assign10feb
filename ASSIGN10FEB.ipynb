{
 "cells": [
  {
   "cell_type": "code",
   "execution_count": 1,
   "id": "e5dc68f8-5a16-428f-92f4-1519e83070ec",
   "metadata": {},
   "outputs": [],
   "source": [
    "#question1\n",
    "\n",
    "#open() function is used to open a file. These are the different modes of opening a file\n",
    "# 'r'       open for reading (default)\n",
    "# 'w'       open for writing, truncating the file first\n",
    "# 'x'       create a new file and open it for writing\n",
    "# 'a'       open for writing, appending to the end of the file if it exists\n",
    "# 'b'       binary mode\n",
    "# 't'       text mode (default)\n",
    "# '+'       open a disk file for updating (reading and writing)\n",
    "# 'U'       universal newline mode (deprecated)"
   ]
  },
  {
   "cell_type": "code",
   "execution_count": 2,
   "id": "38f05239-514a-4206-ab3c-3dc5923bb6c4",
   "metadata": {},
   "outputs": [],
   "source": [
    "#question2\n",
    "# The close() method closes an open file. \n",
    "# You should always close your files, in some cases, due to buffering, changes made to a file may not show until you close the file."
   ]
  },
  {
   "cell_type": "code",
   "execution_count": 8,
   "id": "ae0e8f4c-0f1e-4047-951c-8e3a11bbfb93",
   "metadata": {},
   "outputs": [
    {
     "data": {
      "text/plain": [
       "'I want to become a data scientist'"
      ]
     },
     "execution_count": 8,
     "metadata": {},
     "output_type": "execute_result"
    }
   ],
   "source": [
    "#question3\n",
    "\n",
    "#writing data to dream.txt file\n",
    "f=open(\"dream.txt\" , \"w\")\n",
    "f.write(\"I want to become a data scientist\")\n",
    "f.close()\n",
    "\n",
    "#reading data from dream.txt file\n",
    "f=open(\"dream.txt\" , \"r\")\n",
    "f.read()"
   ]
  },
  {
   "cell_type": "code",
   "execution_count": 34,
   "id": "a2daee0c-89f4-495f-8b23-7c567bba6ee3",
   "metadata": {},
   "outputs": [
    {
     "name": "stdout",
     "output_type": "stream",
     "text": [
      "Data Science Masters course is highly curated and uniquely designed according to the latest industry standards.\n",
      "This program instills students the skills essential to knowledge discovery efforts to identify standard, novel, and truly differentiated solutions and decision-making, including skills in managing, querying, analyzing, visualizing, and extracting meaning from extremely large data sets. \n",
      "This trending program provides students with the statistical, mathematical and computational skills needed to meet the large-scale data science challenges of today's professional world. \n",
      "You will learn all the stack required to work in data science industry including cloud infrastructure and real-time industry projects. This course will be taught in Hindi language.\n",
      "\n",
      "\n",
      "Data Science Masters course is highly curated and uniquely designed according to the latest industry standards.\n",
      "\n",
      "\n",
      "\n",
      "['Data Science Masters course is highly curated and uniquely designed according to the latest industry standards.\\n', 'This program instills students the skills essential to knowledge discovery efforts to identify standard, novel, and truly differentiated solutions and decision-making, including skills in managing, querying, analyzing, visualizing, and extracting meaning from extremely large data sets. \\n', \"This trending program provides students with the statistical, mathematical and computational skills needed to meet the large-scale data science challenges of today's professional world. \\n\", 'You will learn all the stack required to work in data science industry including cloud infrastructure and real-time industry projects. This course will be taught in Hindi language.']\n"
     ]
    }
   ],
   "source": [
    "#question4\n",
    "# read() function- reads the whole text and returns it\n",
    "# readline() method will return a line from the file when called.\n",
    "# readlines() method will return all the lines in a file in the format of a list where each element is a line in the file.\n",
    "\n",
    "f = open(\"assign.txt\" , \"w\")\n",
    "f.write(\"Data Science Masters course is highly curated and uniquely designed according to the latest industry standards.\")\n",
    "f.write(\"\\nThis program instills students the skills essential to knowledge discovery efforts to identify standard, novel, and truly differentiated solutions and decision-making, including skills in managing, querying, analyzing, visualizing, and extracting meaning from extremely large data sets. \")\n",
    "f.write(\"\\nThis trending program provides students with the statistical, mathematical and computational skills needed to meet the large-scale data science challenges of today's professional world. \")\n",
    "f.write(\"\\nYou will learn all the stack required to work in data science industry including cloud infrastructure and real-time industry projects. This course will be taught in Hindi language.\")\n",
    "f.close()\n",
    "\n",
    "f = open(\"assign.txt\" , \"r\")\n",
    "print(f.read())\n",
    "f.seek(0)\n",
    "print(\"\\n\")\n",
    "print(f.readline())\n",
    "print(\"\\n\")\n",
    "f.seek(0)\n",
    "print(f.readlines())\n",
    "\n",
    "\n",
    "\n"
   ]
  },
  {
   "cell_type": "code",
   "execution_count": null,
   "id": "86111c96-b8f0-429a-810c-e3fc7b23f2c1",
   "metadata": {},
   "outputs": [],
   "source": [
    "#question 5\n",
    "\n",
    "#The with statement works with the open() function to open a file. \n",
    "#Unlike open() where you have to close the file with the close() method, the with statement closes the file for you without you telling it to."
   ]
  },
  {
   "cell_type": "code",
   "execution_count": 38,
   "id": "1a0df01f-e9bc-4f1a-b47d-229df913c164",
   "metadata": {},
   "outputs": [
    {
     "name": "stdout",
     "output_type": "stream",
     "text": [
      "See you soon!\n",
      "See you soon!Over and out.See you soon!Over and out.\n"
     ]
    }
   ],
   "source": [
    "#question 6\n",
    "\n",
    "# write()--Writes the specified string to the file\n",
    "# writelines()--Writes a list of strings to the file\n",
    "\n",
    "f = open(\"demofile2.txt\", \"a\")\n",
    "f.write(\"See you soon!\")\n",
    "f.close()\n",
    "\n",
    "#open and read the file after the appending:\n",
    "f = open(\"demofile2.txt\", \"r\")\n",
    "print(f.read())\n",
    "\n",
    "f = open(\"demofile3.txt\", \"a\")\n",
    "f.writelines([\"See you soon!\", \"Over and out.\"])\n",
    "f.close()\n",
    "\n",
    "#open and read the file after the appending:\n",
    "f = open(\"demofile3.txt\", \"r\")\n",
    "print(f.read())\n"
   ]
  },
  {
   "cell_type": "code",
   "execution_count": null,
   "id": "d0f5bf5e-e324-4826-b265-21513b6dc237",
   "metadata": {},
   "outputs": [],
   "source": []
  }
 ],
 "metadata": {
  "kernelspec": {
   "display_name": "Python 3 (ipykernel)",
   "language": "python",
   "name": "python3"
  },
  "language_info": {
   "codemirror_mode": {
    "name": "ipython",
    "version": 3
   },
   "file_extension": ".py",
   "mimetype": "text/x-python",
   "name": "python",
   "nbconvert_exporter": "python",
   "pygments_lexer": "ipython3",
   "version": "3.10.8"
  }
 },
 "nbformat": 4,
 "nbformat_minor": 5
}
